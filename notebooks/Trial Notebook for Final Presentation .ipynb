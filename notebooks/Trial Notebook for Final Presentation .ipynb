{
 "cells": [
  {
   "cell_type": "code",
   "execution_count": 9,
   "metadata": {},
   "outputs": [],
   "source": [
    "## Final Project idea is to create random data sets for practice exercises to remind me of the lessons/skills learned up to data vizualization"
   ]
  },
  {
   "cell_type": "code",
   "execution_count": 10,
   "metadata": {},
   "outputs": [],
   "source": [
    "from random import seed, shuffle"
   ]
  },
  {
   "cell_type": "code",
   "execution_count": 11,
   "metadata": {},
   "outputs": [],
   "source": [
    "presenters = [\n",
    "    \"Akano, Emmanuel\",\n",
    "    \"Alexander, Sara\",\n",
    "    \"Aliberti, Elizabeth\",\n",
    "    \"bartlett, laura\",\n",
    "    \"Beas, Blanca\",\n",
    "    \"Bernard, David\",\n",
    "    \"Bijukchhe, Surendra\",\n",
    "    \"Bleich, Deena\",\n",
    "    \"Chiang, TsunKang\",\n",
    "    \"Cho, InHye\",\n",
    "    \"Chung On, Christopher\",\n",
    "    \"Crawford, Cara\",\n",
    "    \"Custance, Michael\",\n",
    "    \"De Giorgi, Valeria\",\n",
    "    \"Donahue, Kaitlynn\",\n",
    "    \"Drgonova, Jana\",\n",
    "    \"Forcinito, Patricia\",\n",
    "    \"Galiano, Christina\",\n",
    "    \"Gallagher, Marie\",\n",
    "    \"Gebreyohannes, Sintayehu\",\n",
    "    \"Gonzalez Morales, Shaimar\",\n",
    "    \"Gosztyla, Maya\",\n",
    "    \"Han, Sae\",\n",
    "    \"Jessee, Joseph\",\n",
    "    \"Jimah, John\",\n",
    "    \"Juarez Anaya, Maria Fernanda\",\n",
    "    \"kang, byunghyun\",\n",
    "    \"Kang, Sun\",\n",
    "    \"Kaur, Rupleen\",\n",
    "    \"Kehr, Andrew\",\n",
    "    \"Kibrom, Hilina\",\n",
    "    \"Kim, Alexander\",\n",
    "    \"Lalani, Almin\",\n",
    "    \"Levi, Noah\",\n",
    "    \"Liang, Bo\",\n",
    "    \"Litovitz, Aviva\",\n",
    "    \"Liu, Haiping\",\n",
    "    \"Manukyan, Hasmik\",\n",
    "    \"McCall, Micaela\",\n",
    "    \"McGuirt, Delaney\",\n",
    "    \"Medina, Rogelio\",\n",
    "    \"Mkrtchian, Anahit\",\n",
    "    \"Moysi, Eirini\",\n",
    "    \"Noeker, Jacob\",\n",
    "    \"Oakley, Kevin\",\n",
    "    \"Papazoglou, Ioannis\",\n",
    "    \"Park, Andrew\",\n",
    "    \"Patterson, Ryan\",\n",
    "    \"Ramaswami, Mukundhan\",\n",
    "    \"Schrope, Jon\",\n",
    "    \"Sekiguchi, Rei\",\n",
    "    \"Sepe-Forrest, Linnea\",\n",
    "    \"Sievers, Mary\",\n",
    "    \"Srinivas, Pothur\",\n",
    "    \"Stolz, Louise\",\n",
    "    \"Stubbs, John\",\n",
    "    \"Sundar, Ganesh\",\n",
    "    \"Tadesse, Daniel\",\n",
    "    \"Tmanova, Lyubov\",\n",
    "    \"Tricola, Gianna\",\n",
    "    \"Tsai, Pei-Fang\",\n",
    "    \"Vizcardo Sakodo, Raul\",\n",
    "    \"Walker, Lorenzo\",\n",
    "    \"Welsh, Joshua\",\n",
    "    \"Yan, Xuefeng\",\n",
    "    \"Yedavalli, Venkat\",\n",
    "    \"Zarrella, Tiffany\",\n",
    "    \"Zhang, Yongliang\",\n",
    "    \"Zuehlke, Abbey\"\n",
    "]\n"
   ]
  },
  {
   "cell_type": "code",
   "execution_count": 12,
   "metadata": {},
   "outputs": [],
   "source": [
    "def randomize(iterable, seed_value):\n",
    "    seed(a=seed_value)\n",
    "    shuffle(iterable)\n"
   ]
  },
  {
   "cell_type": "code",
   "execution_count": 13,
   "metadata": {},
   "outputs": [],
   "source": [
    "def save_file(iterable):\n",
    "    with open('presentation_order.txt', 'w') as f:\n",
    "        for item in iterable:\n",
    "            f.write(item + '\\n')"
   ]
  },
  {
   "cell_type": "code",
   "execution_count": 14,
   "metadata": {},
   "outputs": [],
   "source": [
    "if __name__ == '__main__':\n",
    "    randomize(presenters, 42)\n",
    "    save_file(presenters)"
   ]
  },
  {
   "cell_type": "code",
   "execution_count": null,
   "metadata": {},
   "outputs": [],
   "source": []
  }
 ],
 "metadata": {
  "kernelspec": {
   "display_name": "Python 3",
   "language": "python",
   "name": "python3"
  },
  "language_info": {
   "codemirror_mode": {
    "name": "ipython",
    "version": 3
   },
   "file_extension": ".py",
   "mimetype": "text/x-python",
   "name": "python",
   "nbconvert_exporter": "python",
   "pygments_lexer": "ipython3",
   "version": "3.6.5"
  }
 },
 "nbformat": 4,
 "nbformat_minor": 2
}
