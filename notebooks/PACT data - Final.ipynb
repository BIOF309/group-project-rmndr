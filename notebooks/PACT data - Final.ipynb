{
 "cells": [
  {
   "cell_type": "code",
   "execution_count": null,
   "metadata": {},
   "outputs": [],
   "source": [
    "### Import packages to pull csv file from repo for analysis\n",
    "import requests\n",
    "import pandas as pd\n",
    "import numpy as np\n",
    "from sqlalchemy import create_engine\n",
    "import matplotlib.pyplot as plt\n",
    "from urllib.request import urlretrieve"
   ]
  },
  {
   "cell_type": "code",
   "execution_count": null,
   "metadata": {},
   "outputs": [],
   "source": [
    "### Assign URL to variable: url\n",
    "url = 'https://raw.githubusercontent.com/BIOF309/group-project-rmndr/master/Family_PACT_Providers_File.csv'"
   ]
  },
  {
   "cell_type": "code",
   "execution_count": null,
   "metadata": {},
   "outputs": [],
   "source": [
    "### Apply pandas package to read the .csv file: url\n",
    "df = pd.read_csv(url)"
   ]
  },
  {
   "cell_type": "code",
   "execution_count": null,
   "metadata": {},
   "outputs": [],
   "source": [
    "### Display the DataFrame in Notebook\n",
    "df"
   ]
  },
  {
   "cell_type": "code",
   "execution_count": null,
   "metadata": {},
   "outputs": [],
   "source": [
    "### Display the shape of the DataFrame\n",
    "print(np.shape(df))"
   ]
  },
  {
   "cell_type": "code",
   "execution_count": null,
   "metadata": {},
   "outputs": [],
   "source": [
    "### Get information on DataFrame\n",
    "df.info()"
   ]
  },
  {
   "cell_type": "code",
   "execution_count": null,
   "metadata": {},
   "outputs": [],
   "source": [
    "### Test ability to manipulate DataFrame by display the last 6 columns of the first 5 rows\n",
    "test = df.iloc[:,-6:]\n",
    "test.head(5)"
   ]
  },
  {
   "cell_type": "code",
   "execution_count": null,
   "metadata": {},
   "outputs": [],
   "source": [
    "### Visualize the DataFrame without conditions\n",
    "df.plot()\n",
    "plt.yscale('log')"
   ]
  },
  {
   "cell_type": "code",
   "execution_count": null,
   "metadata": {},
   "outputs": [],
   "source": [
    "### Plot all columns as subplots\n",
    "df.plot(subplots=True)\n",
    "plt.show()"
   ]
  },
  {
   "cell_type": "code",
   "execution_count": null,
   "metadata": {},
   "outputs": [],
   "source": [
    "### Return the number of entries of zipcodes in the series (column)\n",
    "df['Provider_Address_Zip'].describe()"
   ]
  },
  {
   "cell_type": "code",
   "execution_count": null,
   "metadata": {},
   "outputs": [],
   "source": [
    "###  Find all of the unique zipcodes from the DataFrame; assign to zc_array\n",
    "zc_array = df['Provider_Address_Zip'].unique()\n",
    "zc_array.shape"
   ]
  },
  {
   "cell_type": "code",
   "execution_count": null,
   "metadata": {},
   "outputs": [],
   "source": [
    "### Sort the df by zipcode\n",
    "df.sort_values(by='Provider_Address_Zip')"
   ]
  },
  {
   "cell_type": "code",
   "execution_count": null,
   "metadata": {},
   "outputs": [],
   "source": [
    "### Parse the data against Provider_Type_Code, Provider_Type_Code_Desc and Provider_Address_Zip\n",
    "parsed = pd.read_csv(url, index_col=['Provider_Type_Code', 'Provider_Type_Code_Desc','Provider_Address_Zip'])\n",
    "parsed"
   ]
  },
  {
   "cell_type": "code",
   "execution_count": null,
   "metadata": {},
   "outputs": [],
   "source": [
    "### sort the parsed data\n",
    "zc = parsed.sort_values(by='Provider_Address_Zip')\n",
    "zc"
   ]
  },
  {
   "cell_type": "code",
   "execution_count": null,
   "metadata": {},
   "outputs": [],
   "source": [
    "### Ask user their zipcode (Attempted to raise a ValueError, but was not successful)\n",
    "CAzip = int(input('What is your zipcode?: '))\n",
    "type(CAzip)"
   ]
  },
  {
   "cell_type": "code",
   "execution_count": null,
   "metadata": {},
   "outputs": [],
   "source": [
    "### Find all rows that contain input CAzip\n",
    "xs = pd.IndexSlice\n",
    "row = zc.loc[xs[:,:,CAzip],:]\n",
    "row"
   ]
  },
  {
   "cell_type": "code",
   "execution_count": null,
   "metadata": {},
   "outputs": [],
   "source": [
    "### Sort resulting dataframe by Provider_Type_Code\n",
    "row.sort_values(by='Provider_Type_Code')"
   ]
  },
  {
   "cell_type": "code",
   "execution_count": null,
   "metadata": {},
   "outputs": [],
   "source": []
  },
  {
   "cell_type": "code",
   "execution_count": null,
   "metadata": {},
   "outputs": [],
   "source": [
    "### Select rows and columns for zipcode to determine the count of unique zipcodes in DataFrame\n",
    "only_zip = df.loc[:,'Provider_Address_Zip']\n",
    "uzips = only_zip.unique()\n",
    "soz = only_zip.sort_values()\n",
    "pd.value_counts(soz)"
   ]
  },
  {
   "cell_type": "code",
   "execution_count": null,
   "metadata": {},
   "outputs": [],
   "source": [
    "### Show a crude Histogram - Distribution of providers by zipcode\n",
    "plt.figure(figsize=(10,10)) # figure size argument \n",
    "df['Provider_Address_Zip'].hist(bins=704)\n",
    "plt.title('Volume of Providers by Zipcode')"
   ]
  }
 ],
 "metadata": {
  "kernelspec": {
   "display_name": "Python 3",
   "language": "python",
   "name": "python3"
  },
  "language_info": {
   "codemirror_mode": {
    "name": "ipython",
    "version": 3
   },
   "file_extension": ".py",
   "mimetype": "text/x-python",
   "name": "python",
   "nbconvert_exporter": "python",
   "pygments_lexer": "ipython3",
   "version": "3.6.5"
  }
 },
 "nbformat": 4,
 "nbformat_minor": 2
}
