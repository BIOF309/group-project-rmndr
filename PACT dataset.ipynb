{
 "cells": [
  {
   "cell_type": "code",
   "execution_count": 8,
   "metadata": {},
   "outputs": [],
   "source": [
    "### Import packages to pull json files from web\n",
    "import requests\n",
    "import pandas as pd\n",
    "import numpy as np\n",
    "from sqlalchemy import create_engine\n",
    "import matplotlib.pyplot as plt"
   ]
  },
  {
   "cell_type": "code",
   "execution_count": 2,
   "metadata": {},
   "outputs": [],
   "source": [
    "### Assign URL to variable: url\n",
    "url = 'https://services7.arcgis.com/vA61DZby76ncaItU/ArcGIS/rest/services/Family_PACT_Providers_File/FeatureServer/0?f=pjson'"
   ]
  },
  {
   "cell_type": "code",
   "execution_count": 3,
   "metadata": {},
   "outputs": [],
   "source": [
    "### Package the request, send the request and catch the response: r\n",
    "r = requests.get(url)"
   ]
  },
  {
   "cell_type": "code",
   "execution_count": 4,
   "metadata": {},
   "outputs": [],
   "source": [
    "### Decode the json data into a dictionary: json_data\n",
    "json_data = r.json()"
   ]
  },
  {
   "cell_type": "code",
   "execution_count": 5,
   "metadata": {
    "scrolled": true
   },
   "outputs": [
    {
     "name": "stdout",
     "output_type": "stream",
     "text": [
      "currentVersion: 10.61\n",
      "id: 0\n",
      "name: Family_PACT_Providers_File\n",
      "type: Feature Layer\n",
      "serviceItemId: a2742f60dd944a1fa49377bd0e8a7772\n",
      "displayField: \n",
      "description: \n",
      "copyrightText: \n",
      "defaultVisibility: True\n",
      "editingInfo: {'lastEditDate': 1535065600244}\n",
      "relationships: []\n",
      "isDataVersioned: False\n",
      "supportsAppend: True\n",
      "supportsCalculate: True\n",
      "supportsTruncate: True\n",
      "supportsAttachmentsByUploadId: True\n",
      "supportsAttachmentsResizing: True\n",
      "supportsRollbackOnFailureParameter: True\n",
      "supportsStatistics: True\n",
      "supportsAdvancedQueries: True\n",
      "supportsValidateSql: True\n",
      "supportsCoordinatesQuantization: True\n",
      "supportsQuantizationEditMode: True\n",
      "supportsApplyEditsWithGlobalIds: False\n",
      "advancedQueryCapabilities: {'supportsPagination': True, 'supportsPaginationOnAggregatedQueries': True, 'supportsQueryRelatedPagination': True, 'supportsQueryWithDistance': True, 'supportsReturningQueryExtent': True, 'supportsStatistics': True, 'supportsOrderBy': True, 'supportsDistinct': True, 'supportsQueryWithResultType': True, 'supportsSqlExpression': True, 'supportsAdvancedQueryRelated': True, 'supportsCountDistinct': True, 'supportsLod': True, 'supportsReturningGeometryCentroid': False, 'supportsQueryWithDatumTransformation': True, 'supportsHavingClause': True, 'supportsOutFieldSQLExpression': True, 'supportsMaxRecordCountFactor': True, 'supportsTopFeaturesQuery': True}\n",
      "useStandardizedQueries: True\n",
      "geometryType: esriGeometryPoint\n",
      "minScale: 18489298\n",
      "maxScale: 0\n",
      "extent: {'xmin': -13832780.561202928, 'ymin': 3836834.839842052, 'xmax': -12757185.035800016, 'ymax': 5155621.728620415, 'spatialReference': {'wkid': 102100, 'latestWkid': 3857}}\n",
      "drawingInfo: {'renderer': {'type': 'simple', 'symbol': {'type': 'esriPMS', 'url': 'RedSphere.png', 'imageData': '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', 'contentType': 'image/png', 'width': 15, 'height': 15}}}\n",
      "allowGeometryUpdates: True\n",
      "hasAttachments: False\n",
      "htmlPopupType: esriServerHTMLPopupTypeNone\n",
      "hasM: False\n",
      "hasZ: False\n",
      "objectIdField: FID\n",
      "uniqueIdField: {'name': 'FID', 'isSystemMaintained': True}\n",
      "globalIdField: \n",
      "typeIdField: \n",
      "fields: [{'name': 'Provider_Number', 'type': 'esriFieldTypeInteger', 'actualType': 'int', 'alias': 'Provider Number', 'sqlType': 'sqlTypeInteger', 'nullable': True, 'editable': True, 'domain': None, 'defaultValue': None}, {'name': 'NPI_Provider_Number', 'type': 'esriFieldTypeInteger', 'actualType': 'int', 'alias': 'NPI Provider Number', 'sqlType': 'sqlTypeInteger', 'nullable': True, 'editable': True, 'domain': None, 'defaultValue': None}, {'name': 'Owner_Number', 'type': 'esriFieldTypeInteger', 'actualType': 'int', 'alias': 'Owner Number', 'sqlType': 'sqlTypeInteger', 'nullable': True, 'editable': True, 'domain': None, 'defaultValue': None}, {'name': 'Service_Location_Number', 'type': 'esriFieldTypeInteger', 'actualType': 'int', 'alias': 'Service Location Number', 'sqlType': 'sqlTypeInteger', 'nullable': True, 'editable': True, 'domain': None, 'defaultValue': None}, {'name': 'Provider_Businness_Legal_Name', 'type': 'esriFieldTypeString', 'actualType': 'nvarchar', 'alias': 'Provider Businness/Legal Name', 'sqlType': 'sqlTypeNVarchar', 'length': 256, 'nullable': True, 'editable': True, 'domain': None, 'defaultValue': None}, {'name': 'Enrollment_Status_Effective_dat', 'type': 'esriFieldTypeDate', 'actualType': 'datetime2', 'alias': 'Enrollment Status Effective date', 'sqlType': 'sqlTypeTimestamp2', 'length': 8, 'nullable': True, 'editable': True, 'domain': None, 'defaultValue': None}, {'name': 'Provider_Type_Code', 'type': 'esriFieldTypeInteger', 'actualType': 'int', 'alias': 'Provider Type Code', 'sqlType': 'sqlTypeInteger', 'nullable': True, 'editable': True, 'domain': None, 'defaultValue': None}, {'name': 'Provider_Type_Code_Desc', 'type': 'esriFieldTypeString', 'actualType': 'nvarchar', 'alias': 'Provider Type Code Desc', 'sqlType': 'sqlTypeNVarchar', 'length': 256, 'nullable': True, 'editable': True, 'domain': None, 'defaultValue': None}, {'name': 'Provider_License_Number', 'type': 'esriFieldTypeString', 'actualType': 'nvarchar', 'alias': 'Provider License Number', 'sqlType': 'sqlTypeNVarchar', 'length': 256, 'nullable': True, 'editable': True, 'domain': None, 'defaultValue': None}, {'name': 'Provider_Specialty_Code', 'type': 'esriFieldTypeInteger', 'actualType': 'int', 'alias': 'Provider Specialty Code', 'sqlType': 'sqlTypeInteger', 'nullable': True, 'editable': True, 'domain': None, 'defaultValue': None}, {'name': 'Provider_Specialty_Code_Desc', 'type': 'esriFieldTypeString', 'actualType': 'nvarchar', 'alias': 'Provider Specialty Code Desc', 'sqlType': 'sqlTypeNVarchar', 'length': 256, 'nullable': True, 'editable': True, 'domain': None, 'defaultValue': None}, {'name': 'Out_of_State_Ind', 'type': 'esriFieldTypeInteger', 'actualType': 'int', 'alias': 'Out of State Ind', 'sqlType': 'sqlTypeInteger', 'nullable': True, 'editable': True, 'domain': None, 'defaultValue': None}, {'name': 'Out_of_State_Desc', 'type': 'esriFieldTypeString', 'actualType': 'nvarchar', 'alias': 'Out of State Desc', 'sqlType': 'sqlTypeNVarchar', 'length': 256, 'nullable': True, 'editable': True, 'domain': None, 'defaultValue': None}, {'name': 'Provider_Address_County_Code', 'type': 'esriFieldTypeInteger', 'actualType': 'int', 'alias': 'Provider Address County Code', 'sqlType': 'sqlTypeInteger', 'nullable': True, 'editable': True, 'domain': None, 'defaultValue': None}, {'name': 'Provider_Address_County_Code_De', 'type': 'esriFieldTypeString', 'actualType': 'nvarchar', 'alias': 'Provider Address County Code Desc', 'sqlType': 'sqlTypeNVarchar', 'length': 256, 'nullable': True, 'editable': True, 'domain': None, 'defaultValue': None}, {'name': 'Provider_Address_Attention_Line', 'type': 'esriFieldTypeString', 'actualType': 'nvarchar', 'alias': 'Provider Address Attention Line', 'sqlType': 'sqlTypeNVarchar', 'length': 256, 'nullable': True, 'editable': True, 'domain': None, 'defaultValue': None}, {'name': 'Provider_Address_Line_1', 'type': 'esriFieldTypeString', 'actualType': 'nvarchar', 'alias': 'Provider Address Line 1', 'sqlType': 'sqlTypeNVarchar', 'length': 256, 'nullable': True, 'editable': True, 'domain': None, 'defaultValue': None}, {'name': 'Provider_Address_Line_2', 'type': 'esriFieldTypeString', 'actualType': 'nvarchar', 'alias': 'Provider Address Line 2', 'sqlType': 'sqlTypeNVarchar', 'length': 256, 'nullable': True, 'editable': True, 'domain': None, 'defaultValue': None}, {'name': 'Provider_Address_City', 'type': 'esriFieldTypeString', 'actualType': 'nvarchar', 'alias': 'Provider Address City', 'sqlType': 'sqlTypeNVarchar', 'length': 256, 'nullable': True, 'editable': True, 'domain': None, 'defaultValue': None}, {'name': 'Provider_Address_State', 'type': 'esriFieldTypeString', 'actualType': 'nvarchar', 'alias': 'Provider Address State', 'sqlType': 'sqlTypeNVarchar', 'length': 256, 'nullable': True, 'editable': True, 'domain': None, 'defaultValue': None}, {'name': 'Provider_Address_Zip', 'type': 'esriFieldTypeInteger', 'actualType': 'int', 'alias': 'Provider Address Zip', 'sqlType': 'sqlTypeInteger', 'nullable': True, 'editable': True, 'domain': None, 'defaultValue': None}, {'name': 'Provider_Address_Latitude', 'type': 'esriFieldTypeDouble', 'actualType': 'float', 'alias': 'Provider Address Latitude', 'sqlType': 'sqlTypeFloat', 'nullable': True, 'editable': True, 'domain': None, 'defaultValue': None}, {'name': 'Provider_Address_Longitude', 'type': 'esriFieldTypeDouble', 'actualType': 'float', 'alias': 'Provider Address Longitude', 'sqlType': 'sqlTypeFloat', 'nullable': True, 'editable': True, 'domain': None, 'defaultValue': None}, {'name': 'MSSA_ID', 'type': 'esriFieldTypeString', 'actualType': 'nvarchar', 'alias': 'MSSA_ID', 'sqlType': 'sqlTypeNVarchar', 'length': 256, 'nullable': True, 'editable': True, 'domain': None, 'defaultValue': None}, {'name': 'TRACT_ID', 'type': 'esriFieldTypeDouble', 'actualType': 'float', 'alias': 'TRACT_ID', 'sqlType': 'sqlTypeFloat', 'nullable': True, 'editable': True, 'domain': None, 'defaultValue': None}, {'name': 'FID', 'type': 'esriFieldTypeOID', 'actualType': 'int', 'alias': 'FID', 'sqlType': 'sqlTypeInteger', 'nullable': False, 'editable': False, 'domain': None, 'defaultValue': None}]\n",
      "indexes: [{'name': 'PK__FAMILY_P__C1BEA5A245D56F6F', 'fields': 'FID', 'isAscending': True, 'isUnique': True, 'description': 'clustered, unique, primary key'}, {'name': 'user_37801.FAMILY_PACT_PROVIDERS_FILE_FAMILY_PACT_PROVIDERS_FILE_Shape_sidx', 'fields': 'Shape', 'isAscending': False, 'isUnique': False, 'description': 'Shape Index'}]\n",
      "types: []\n",
      "templates: [{'name': 'New Feature', 'description': '', 'drawingTool': 'esriFeatureEditToolPoint', 'prototype': {'attributes': {'Provider_Number': None, 'NPI_Provider_Number': None, 'Owner_Number': None, 'Service_Location_Number': None, 'Provider_Businness_Legal_Name': None, 'Enrollment_Status_Effective_dat': None, 'Provider_Type_Code': None, 'Provider_Type_Code_Desc': None, 'Provider_License_Number': None, 'Provider_Specialty_Code': None, 'Provider_Specialty_Code_Desc': None, 'Out_of_State_Ind': None, 'Out_of_State_Desc': None, 'Provider_Address_County_Code': None, 'Provider_Address_County_Code_De': None, 'Provider_Address_Attention_Line': None, 'Provider_Address_Line_1': None, 'Provider_Address_Line_2': None, 'Provider_Address_City': None, 'Provider_Address_State': None, 'Provider_Address_Zip': None, 'Provider_Address_Latitude': None, 'Provider_Address_Longitude': None, 'MSSA_ID': None, 'TRACT_ID': None}}}]\n",
      "supportedQueryFormats: JSON, geoJSON, PBF\n",
      "hasStaticData: True\n",
      "maxRecordCount: 2000\n",
      "standardMaxRecordCount: 32000\n",
      "tileMaxRecordCount: 8000\n",
      "maxRecordCountFactor: 1\n",
      "capabilities: Query\n"
     ]
    }
   ],
   "source": [
    "### Print each key-value in json_data\n",
    "for k in json_data.keys():\n",
    "    print(k + ':', json_data[k])"
   ]
  },
  {
   "cell_type": "code",
   "execution_count": 10,
   "metadata": {},
   "outputs": [
    {
     "name": "stdout",
     "output_type": "stream",
     "text": [
      "()\n"
     ]
    }
   ],
   "source": [
    "print(np.shape('json_data'))"
   ]
  },
  {
   "cell_type": "code",
   "execution_count": 11,
   "metadata": {},
   "outputs": [
    {
     "ename": "FileNotFoundError",
     "evalue": "File b'Family_PACT_Providers_File.csv' does not exist",
     "output_type": "error",
     "traceback": [
      "\u001b[1;31m---------------------------------------------------------------------------\u001b[0m",
      "\u001b[1;31mFileNotFoundError\u001b[0m                         Traceback (most recent call last)",
      "\u001b[1;32m<ipython-input-11-b168c2dfdef0>\u001b[0m in \u001b[0;36m<module>\u001b[1;34m()\u001b[0m\n\u001b[0;32m      1\u001b[0m \u001b[1;31m### import the local csv file as: pact_data\u001b[0m\u001b[1;33m\u001b[0m\u001b[1;33m\u001b[0m\u001b[0m\n\u001b[0;32m      2\u001b[0m \u001b[0mpact_data\u001b[0m \u001b[1;33m=\u001b[0m \u001b[1;34m'Family_PACT_Providers_File.csv'\u001b[0m\u001b[1;33m\u001b[0m\u001b[0m\n\u001b[1;32m----> 3\u001b[1;33m \u001b[0mdata\u001b[0m \u001b[1;33m=\u001b[0m \u001b[0mpd\u001b[0m\u001b[1;33m.\u001b[0m\u001b[0mread_csv\u001b[0m\u001b[1;33m(\u001b[0m\u001b[0mpact_data\u001b[0m\u001b[1;33m)\u001b[0m\u001b[1;33m\u001b[0m\u001b[0m\n\u001b[0m\u001b[0;32m      4\u001b[0m \u001b[0mdata\u001b[0m\u001b[1;33m.\u001b[0m\u001b[0mhead\u001b[0m\u001b[1;33m(\u001b[0m\u001b[1;33m)\u001b[0m\u001b[1;33m\u001b[0m\u001b[0m\n",
      "\u001b[1;32mC:\\Users\\Public\\Anaconda3\\lib\\site-packages\\pandas\\io\\parsers.py\u001b[0m in \u001b[0;36mparser_f\u001b[1;34m(filepath_or_buffer, sep, delimiter, header, names, index_col, usecols, squeeze, prefix, mangle_dupe_cols, dtype, engine, converters, true_values, false_values, skipinitialspace, skiprows, nrows, na_values, keep_default_na, na_filter, verbose, skip_blank_lines, parse_dates, infer_datetime_format, keep_date_col, date_parser, dayfirst, iterator, chunksize, compression, thousands, decimal, lineterminator, quotechar, quoting, escapechar, comment, encoding, dialect, tupleize_cols, error_bad_lines, warn_bad_lines, skipfooter, doublequote, delim_whitespace, low_memory, memory_map, float_precision)\u001b[0m\n\u001b[0;32m    676\u001b[0m                     skip_blank_lines=skip_blank_lines)\n\u001b[0;32m    677\u001b[0m \u001b[1;33m\u001b[0m\u001b[0m\n\u001b[1;32m--> 678\u001b[1;33m         \u001b[1;32mreturn\u001b[0m \u001b[0m_read\u001b[0m\u001b[1;33m(\u001b[0m\u001b[0mfilepath_or_buffer\u001b[0m\u001b[1;33m,\u001b[0m \u001b[0mkwds\u001b[0m\u001b[1;33m)\u001b[0m\u001b[1;33m\u001b[0m\u001b[0m\n\u001b[0m\u001b[0;32m    679\u001b[0m \u001b[1;33m\u001b[0m\u001b[0m\n\u001b[0;32m    680\u001b[0m     \u001b[0mparser_f\u001b[0m\u001b[1;33m.\u001b[0m\u001b[0m__name__\u001b[0m \u001b[1;33m=\u001b[0m \u001b[0mname\u001b[0m\u001b[1;33m\u001b[0m\u001b[0m\n",
      "\u001b[1;32mC:\\Users\\Public\\Anaconda3\\lib\\site-packages\\pandas\\io\\parsers.py\u001b[0m in \u001b[0;36m_read\u001b[1;34m(filepath_or_buffer, kwds)\u001b[0m\n\u001b[0;32m    438\u001b[0m \u001b[1;33m\u001b[0m\u001b[0m\n\u001b[0;32m    439\u001b[0m     \u001b[1;31m# Create the parser.\u001b[0m\u001b[1;33m\u001b[0m\u001b[1;33m\u001b[0m\u001b[0m\n\u001b[1;32m--> 440\u001b[1;33m     \u001b[0mparser\u001b[0m \u001b[1;33m=\u001b[0m \u001b[0mTextFileReader\u001b[0m\u001b[1;33m(\u001b[0m\u001b[0mfilepath_or_buffer\u001b[0m\u001b[1;33m,\u001b[0m \u001b[1;33m**\u001b[0m\u001b[0mkwds\u001b[0m\u001b[1;33m)\u001b[0m\u001b[1;33m\u001b[0m\u001b[0m\n\u001b[0m\u001b[0;32m    441\u001b[0m \u001b[1;33m\u001b[0m\u001b[0m\n\u001b[0;32m    442\u001b[0m     \u001b[1;32mif\u001b[0m \u001b[0mchunksize\u001b[0m \u001b[1;32mor\u001b[0m \u001b[0miterator\u001b[0m\u001b[1;33m:\u001b[0m\u001b[1;33m\u001b[0m\u001b[0m\n",
      "\u001b[1;32mC:\\Users\\Public\\Anaconda3\\lib\\site-packages\\pandas\\io\\parsers.py\u001b[0m in \u001b[0;36m__init__\u001b[1;34m(self, f, engine, **kwds)\u001b[0m\n\u001b[0;32m    785\u001b[0m             \u001b[0mself\u001b[0m\u001b[1;33m.\u001b[0m\u001b[0moptions\u001b[0m\u001b[1;33m[\u001b[0m\u001b[1;34m'has_index_names'\u001b[0m\u001b[1;33m]\u001b[0m \u001b[1;33m=\u001b[0m \u001b[0mkwds\u001b[0m\u001b[1;33m[\u001b[0m\u001b[1;34m'has_index_names'\u001b[0m\u001b[1;33m]\u001b[0m\u001b[1;33m\u001b[0m\u001b[0m\n\u001b[0;32m    786\u001b[0m \u001b[1;33m\u001b[0m\u001b[0m\n\u001b[1;32m--> 787\u001b[1;33m         \u001b[0mself\u001b[0m\u001b[1;33m.\u001b[0m\u001b[0m_make_engine\u001b[0m\u001b[1;33m(\u001b[0m\u001b[0mself\u001b[0m\u001b[1;33m.\u001b[0m\u001b[0mengine\u001b[0m\u001b[1;33m)\u001b[0m\u001b[1;33m\u001b[0m\u001b[0m\n\u001b[0m\u001b[0;32m    788\u001b[0m \u001b[1;33m\u001b[0m\u001b[0m\n\u001b[0;32m    789\u001b[0m     \u001b[1;32mdef\u001b[0m \u001b[0mclose\u001b[0m\u001b[1;33m(\u001b[0m\u001b[0mself\u001b[0m\u001b[1;33m)\u001b[0m\u001b[1;33m:\u001b[0m\u001b[1;33m\u001b[0m\u001b[0m\n",
      "\u001b[1;32mC:\\Users\\Public\\Anaconda3\\lib\\site-packages\\pandas\\io\\parsers.py\u001b[0m in \u001b[0;36m_make_engine\u001b[1;34m(self, engine)\u001b[0m\n\u001b[0;32m   1012\u001b[0m     \u001b[1;32mdef\u001b[0m \u001b[0m_make_engine\u001b[0m\u001b[1;33m(\u001b[0m\u001b[0mself\u001b[0m\u001b[1;33m,\u001b[0m \u001b[0mengine\u001b[0m\u001b[1;33m=\u001b[0m\u001b[1;34m'c'\u001b[0m\u001b[1;33m)\u001b[0m\u001b[1;33m:\u001b[0m\u001b[1;33m\u001b[0m\u001b[0m\n\u001b[0;32m   1013\u001b[0m         \u001b[1;32mif\u001b[0m \u001b[0mengine\u001b[0m \u001b[1;33m==\u001b[0m \u001b[1;34m'c'\u001b[0m\u001b[1;33m:\u001b[0m\u001b[1;33m\u001b[0m\u001b[0m\n\u001b[1;32m-> 1014\u001b[1;33m             \u001b[0mself\u001b[0m\u001b[1;33m.\u001b[0m\u001b[0m_engine\u001b[0m \u001b[1;33m=\u001b[0m \u001b[0mCParserWrapper\u001b[0m\u001b[1;33m(\u001b[0m\u001b[0mself\u001b[0m\u001b[1;33m.\u001b[0m\u001b[0mf\u001b[0m\u001b[1;33m,\u001b[0m \u001b[1;33m**\u001b[0m\u001b[0mself\u001b[0m\u001b[1;33m.\u001b[0m\u001b[0moptions\u001b[0m\u001b[1;33m)\u001b[0m\u001b[1;33m\u001b[0m\u001b[0m\n\u001b[0m\u001b[0;32m   1015\u001b[0m         \u001b[1;32melse\u001b[0m\u001b[1;33m:\u001b[0m\u001b[1;33m\u001b[0m\u001b[0m\n\u001b[0;32m   1016\u001b[0m             \u001b[1;32mif\u001b[0m \u001b[0mengine\u001b[0m \u001b[1;33m==\u001b[0m \u001b[1;34m'python'\u001b[0m\u001b[1;33m:\u001b[0m\u001b[1;33m\u001b[0m\u001b[0m\n",
      "\u001b[1;32mC:\\Users\\Public\\Anaconda3\\lib\\site-packages\\pandas\\io\\parsers.py\u001b[0m in \u001b[0;36m__init__\u001b[1;34m(self, src, **kwds)\u001b[0m\n\u001b[0;32m   1706\u001b[0m         \u001b[0mkwds\u001b[0m\u001b[1;33m[\u001b[0m\u001b[1;34m'usecols'\u001b[0m\u001b[1;33m]\u001b[0m \u001b[1;33m=\u001b[0m \u001b[0mself\u001b[0m\u001b[1;33m.\u001b[0m\u001b[0musecols\u001b[0m\u001b[1;33m\u001b[0m\u001b[0m\n\u001b[0;32m   1707\u001b[0m \u001b[1;33m\u001b[0m\u001b[0m\n\u001b[1;32m-> 1708\u001b[1;33m         \u001b[0mself\u001b[0m\u001b[1;33m.\u001b[0m\u001b[0m_reader\u001b[0m \u001b[1;33m=\u001b[0m \u001b[0mparsers\u001b[0m\u001b[1;33m.\u001b[0m\u001b[0mTextReader\u001b[0m\u001b[1;33m(\u001b[0m\u001b[0msrc\u001b[0m\u001b[1;33m,\u001b[0m \u001b[1;33m**\u001b[0m\u001b[0mkwds\u001b[0m\u001b[1;33m)\u001b[0m\u001b[1;33m\u001b[0m\u001b[0m\n\u001b[0m\u001b[0;32m   1709\u001b[0m \u001b[1;33m\u001b[0m\u001b[0m\n\u001b[0;32m   1710\u001b[0m         \u001b[0mpassed_names\u001b[0m \u001b[1;33m=\u001b[0m \u001b[0mself\u001b[0m\u001b[1;33m.\u001b[0m\u001b[0mnames\u001b[0m \u001b[1;32mis\u001b[0m \u001b[1;32mNone\u001b[0m\u001b[1;33m\u001b[0m\u001b[0m\n",
      "\u001b[1;32mpandas\\_libs\\parsers.pyx\u001b[0m in \u001b[0;36mpandas._libs.parsers.TextReader.__cinit__\u001b[1;34m()\u001b[0m\n",
      "\u001b[1;32mpandas\\_libs\\parsers.pyx\u001b[0m in \u001b[0;36mpandas._libs.parsers.TextReader._setup_parser_source\u001b[1;34m()\u001b[0m\n",
      "\u001b[1;31mFileNotFoundError\u001b[0m: File b'Family_PACT_Providers_File.csv' does not exist"
     ]
    }
   ],
   "source": [
    "### import the local csv file as: pact_data\n",
    "pact_data = 'Family_PACT_Providers_File.csv'\n",
    "data = pd.read_csv(pact_data)\n",
    "data.head()\n"
   ]
  },
  {
   "cell_type": "code",
   "execution_count": null,
   "metadata": {},
   "outputs": [],
   "source": []
  }
 ],
 "metadata": {
  "kernelspec": {
   "display_name": "Python 3",
   "language": "python",
   "name": "python3"
  },
  "language_info": {
   "codemirror_mode": {
    "name": "ipython",
    "version": 3
   },
   "file_extension": ".py",
   "mimetype": "text/x-python",
   "name": "python",
   "nbconvert_exporter": "python",
   "pygments_lexer": "ipython3",
   "version": "3.6.5"
  }
 },
 "nbformat": 4,
 "nbformat_minor": 2
}
